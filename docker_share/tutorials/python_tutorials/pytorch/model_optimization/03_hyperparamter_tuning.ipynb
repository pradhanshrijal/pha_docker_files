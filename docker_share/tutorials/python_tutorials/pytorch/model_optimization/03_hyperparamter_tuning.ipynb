{
 "cells": [
  {
   "attachments": {},
   "cell_type": "markdown",
   "metadata": {},
   "source": [
    "# Hyperparameter Tuning with Ray Tune\n",
    "---"
   ]
  },
  {
   "attachments": {},
   "cell_type": "markdown",
   "metadata": {},
   "source": [
    "* [Link](https://pytorch.org/tutorials/beginner/hyperparameter_tuning_tutorial.html)<br>\n",
    "* [Ray Tune](https://docs.ray.io/en/latest/tune/index.html)<br>\n",
    "* [Ray's distributed machine learning engine](https://www.ray.io/)<br>\n",
    "* [Cifar10 Tutorial for Image Classifier](https://pytorch.org/tutorials/beginner/blitz/cifar10_tutorial.html)<br>\n",
    "\n",
    "Create highly accurate model.<br>\n"
   ]
  },
  {
   "cell_type": "markdown",
   "metadata": {},
   "source": []
  }
 ],
 "metadata": {
  "kernelspec": {
   "display_name": "py-38",
   "language": "python",
   "name": "python3"
  },
  "language_info": {
   "name": "python",
   "version": "3.8.0 (default, Nov  6 2019, 21:49:08) \n[GCC 7.3.0]"
  },
  "orig_nbformat": 4,
  "vscode": {
   "interpreter": {
    "hash": "b1575894b3c56cb0000c31f06c89affaaca1d84533f8b8421570eed65a182f1a"
   }
  }
 },
 "nbformat": 4,
 "nbformat_minor": 2
}
