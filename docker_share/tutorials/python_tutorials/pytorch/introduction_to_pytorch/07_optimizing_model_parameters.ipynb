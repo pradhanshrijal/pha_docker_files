{
 "cells": [
  {
   "attachments": {},
   "cell_type": "markdown",
   "metadata": {},
   "source": [
    "# Optimizing Model Paramters\n",
    "---"
   ]
  },
  {
   "attachments": {},
   "cell_type": "markdown",
   "metadata": {},
   "source": [
    "* [Link](https://pytorch.org/tutorials/beginner/basics/optimization_tutorial.html)\n",
    "* [Backpropagation](https://www.youtube.com/watch?v=tIeHLnjs5U8)"
   ]
  },
  {
   "cell_type": "code",
   "execution_count": 1,
   "metadata": {},
   "outputs": [],
   "source": [
    "import torch\n",
    "from torch import nn\n",
    "from torch.utils.data import DataLoader\n",
    "from torchvision import datasets\n",
    "from torchvision.transforms import ToTensor"
   ]
  },
  {
   "cell_type": "code",
   "execution_count": 9,
   "metadata": {},
   "outputs": [],
   "source": [
    "training_data = datasets.FashionMNIST(\n",
    "    root=\"../data\",\n",
    "    train=True,\n",
    "    download=True,\n",
    "    transform=ToTensor()\n",
    ")\n",
    "\n",
    "test_data = datasets.FashionMNIST(\n",
    "    root=\"../data\",\n",
    "    train=False,\n",
    "    download=True,\n",
    "    transform=ToTensor()\n",
    ")\n",
    "\n",
    "train_dataloader = DataLoader(training_data, batch_size=64)\n",
    "test_dataloader = DataLoader(test_data, batch_size=64)\n",
    "\n",
    "class NeuralNetwork(nn.Module):\n",
    "    def __init__(self):\n",
    "        super(NeuralNetwork, self).__init__()\n",
    "        self.flatten = nn.Flatten()\n",
    "        self.linear_relu_stack = nn.Sequential(\n",
    "            nn.Linear(28*28, 512),\n",
    "            nn.ReLU(),\n",
    "            nn.Linear(512, 512),\n",
    "            nn.ReLU(),\n",
    "            nn.Linear(512, 10),\n",
    "        )\n",
    "    \n",
    "    def forward(self, x):\n",
    "        x = self.flatten(x)\n",
    "        logits = self.linear_relu_stack(x)\n",
    "        return logits\n",
    "\n",
    "device = \"cuda\" if torch.cuda.is_available() else \"cpu\"\n",
    "\n",
    "model = NeuralNetwork().to(device)"
   ]
  },
  {
   "attachments": {},
   "cell_type": "markdown",
   "metadata": {},
   "source": [
    "# Hyperparameters\n",
    "---"
   ]
  },
  {
   "attachments": {},
   "cell_type": "markdown",
   "metadata": {},
   "source": [
    "* **Number of Epochs**\n",
    "* **Batch Size**\n",
    "* **Learning Rate**"
   ]
  },
  {
   "cell_type": "code",
   "execution_count": 3,
   "metadata": {},
   "outputs": [],
   "source": [
    "learning_rate = 1e-3\n",
    "batch_size = 64\n",
    "epochs = 5"
   ]
  },
  {
   "attachments": {},
   "cell_type": "markdown",
   "metadata": {},
   "source": [
    "# Optimization Loop\n",
    "---"
   ]
  },
  {
   "attachments": {},
   "cell_type": "markdown",
   "metadata": {},
   "source": [
    "Each epoch consists of two main parts:\n",
    "* **The Train Loop**\n",
    "* **The Validation/Test Loop**"
   ]
  },
  {
   "attachments": {},
   "cell_type": "markdown",
   "metadata": {},
   "source": [
    "# Loss Function\n",
    "---"
   ]
  },
  {
   "attachments": {},
   "cell_type": "markdown",
   "metadata": {},
   "source": [
    "Common loss functions:\n",
    "* [nn.MSELoss](https://pytorch.org/docs/stable/generated/torch.nn.MSELoss.html#torch.nn.MSELoss) (Mean Square Error) for regression tasks\n",
    "* [nn.NLLLoss](https://pytorch.org/docs/stable/generated/torch.nn.NLLLoss.html#torch.nn.NLLLoss) (Negative Log Likelihood) for classification\n",
    "* [nn.CrossEntropyLoss](https://pytorch.org/docs/stable/generated/torch.nn.CrossEntropyLoss.html#torch.nn.CrossEntropyLoss) combines the above two"
   ]
  },
  {
   "cell_type": "code",
   "execution_count": 4,
   "metadata": {},
   "outputs": [],
   "source": [
    "# Initialize the loss function\n",
    "loss_fn = nn.CrossEntropyLoss()"
   ]
  },
  {
   "attachments": {},
   "cell_type": "markdown",
   "metadata": {},
   "source": [
    "# Optimizer\n",
    "---"
   ]
  },
  {
   "attachments": {},
   "cell_type": "markdown",
   "metadata": {},
   "source": [
    "[Different optimizers](https://pytorch.org/docs/stable/optim.html) such as SGD, ADAM and RMSProp"
   ]
  },
  {
   "cell_type": "code",
   "execution_count": 5,
   "metadata": {},
   "outputs": [],
   "source": [
    "optimizer = torch.optim.SGD(model.parameters(), lr=learning_rate)"
   ]
  },
  {
   "attachments": {},
   "cell_type": "markdown",
   "metadata": {},
   "source": [
    "# Full Implementation\n",
    "---"
   ]
  },
  {
   "cell_type": "code",
   "execution_count": 11,
   "metadata": {},
   "outputs": [],
   "source": [
    "def train_loop(dataloader, model, loss_fn, optimizer):\n",
    "    size = len(dataloader.dataset)\n",
    "    for batch, (X, y) in enumerate(dataloader):\n",
    "        # Compute prediction and loss\n",
    "        pred = model(X)\n",
    "        loss = loss_fn(pred, y)\n",
    "\n",
    "        # Backpropagation\n",
    "        optimizer.zero_grad()\n",
    "        loss.backward()\n",
    "        optimizer.step()\n",
    "\n",
    "        if batch % 100 == 0:\n",
    "            loss, current = loss.item(), batch * len(X)\n",
    "            print(f\"loss: {loss:>7f} [{current:>5d}/{size:>5d}]\")\n",
    "\n",
    "def test_loop(dataloader, model, loss_fn):\n",
    "    size = len(dataloader.dataset)\n",
    "    num_batches = len(dataloader)\n",
    "    test_loss, correct = 0, 0\n",
    "\n",
    "    with torch.no_grad():\n",
    "        for X, y in dataloader:\n",
    "            pred = model(X)\n",
    "            test_loss += loss_fn(pred, y).item()\n",
    "            correct += (pred.argmax(1) == y).type(torch.float).sum().item()\n",
    "\n",
    "    test_loss /= num_batches\n",
    "    correct /= size\n",
    "    print(f\"Test Error: \\n Accuracy: {(100*correct):>0.1f}%, Avg loss: {test_loss:>8f} \\n\")"
   ]
  },
  {
   "cell_type": "code",
   "execution_count": 12,
   "metadata": {},
   "outputs": [
    {
     "name": "stdout",
     "output_type": "stream",
     "text": [
      "Epoch 1\n",
      "--------------------\n",
      "loss: 2.172617 [    0/60000]\n",
      "loss: 2.152074 [ 6400/60000]\n",
      "loss: 2.100726 [12800/60000]\n",
      "loss: 2.108446 [19200/60000]\n",
      "loss: 2.043392 [25600/60000]\n",
      "loss: 2.003994 [32000/60000]\n",
      "loss: 2.017648 [38400/60000]\n",
      "loss: 1.952383 [44800/60000]\n",
      "loss: 1.959922 [51200/60000]\n",
      "loss: 1.866995 [57600/60000]\n",
      "Test Error: \n",
      " Accuracy: 56.1%, Avg loss: 1.874407 \n",
      "\n",
      "Epoch 2\n",
      "--------------------\n",
      "loss: 1.921453 [    0/60000]\n",
      "loss: 1.873162 [ 6400/60000]\n",
      "loss: 1.765620 [12800/60000]\n",
      "loss: 1.799228 [19200/60000]\n",
      "loss: 1.681347 [25600/60000]\n",
      "loss: 1.647196 [32000/60000]\n",
      "loss: 1.659986 [38400/60000]\n",
      "loss: 1.576013 [44800/60000]\n",
      "loss: 1.597757 [51200/60000]\n",
      "loss: 1.486234 [57600/60000]\n",
      "Test Error: \n",
      " Accuracy: 60.4%, Avg loss: 1.508141 \n",
      "\n",
      "Epoch 3\n",
      "--------------------\n",
      "loss: 1.585629 [    0/60000]\n",
      "loss: 1.536871 [ 6400/60000]\n",
      "loss: 1.396313 [12800/60000]\n",
      "loss: 1.462641 [19200/60000]\n",
      "loss: 1.341232 [25600/60000]\n",
      "loss: 1.342085 [32000/60000]\n",
      "loss: 1.355662 [38400/60000]\n",
      "loss: 1.290207 [44800/60000]\n",
      "loss: 1.314332 [51200/60000]\n",
      "loss: 1.218606 [57600/60000]\n",
      "Test Error: \n",
      " Accuracy: 62.8%, Avg loss: 1.243826 \n",
      "\n",
      "Epoch 4\n",
      "--------------------\n",
      "loss: 1.327557 [    0/60000]\n",
      "loss: 1.299157 [ 6400/60000]\n",
      "loss: 1.140297 [12800/60000]\n",
      "loss: 1.242635 [19200/60000]\n",
      "loss: 1.114911 [25600/60000]\n",
      "loss: 1.140922 [32000/60000]\n",
      "loss: 1.167873 [38400/60000]\n",
      "loss: 1.111308 [44800/60000]\n",
      "loss: 1.137400 [51200/60000]\n",
      "loss: 1.059142 [57600/60000]\n",
      "Test Error: \n",
      " Accuracy: 64.3%, Avg loss: 1.079546 \n",
      "\n",
      "Epoch 5\n",
      "--------------------\n",
      "loss: 1.155750 [    0/60000]\n",
      "loss: 1.148202 [ 6400/60000]\n",
      "loss: 0.972417 [12800/60000]\n",
      "loss: 1.105751 [19200/60000]\n",
      "loss: 0.976977 [25600/60000]\n",
      "loss: 1.007349 [32000/60000]\n",
      "loss: 1.052105 [38400/60000]\n",
      "loss: 0.998496 [44800/60000]\n",
      "loss: 1.023248 [51200/60000]\n",
      "loss: 0.959179 [57600/60000]\n",
      "Test Error: \n",
      " Accuracy: 65.7%, Avg loss: 0.974765 \n",
      "\n",
      "Epoch 6\n",
      "--------------------\n",
      "loss: 1.037517 [    0/60000]\n",
      "loss: 1.050777 [ 6400/60000]\n",
      "loss: 0.859169 [12800/60000]\n",
      "loss: 1.015409 [19200/60000]\n",
      "loss: 0.891281 [25600/60000]\n",
      "loss: 0.914843 [32000/60000]\n",
      "loss: 0.976817 [38400/60000]\n",
      "loss: 0.925504 [44800/60000]\n",
      "loss: 0.945388 [51200/60000]\n",
      "loss: 0.892211 [57600/60000]\n",
      "Test Error: \n",
      " Accuracy: 67.1%, Avg loss: 0.904110 \n",
      "\n",
      "Epoch 7\n",
      "--------------------\n",
      "loss: 0.951111 [    0/60000]\n",
      "loss: 0.983250 [ 6400/60000]\n",
      "loss: 0.779274 [12800/60000]\n",
      "loss: 0.951824 [19200/60000]\n",
      "loss: 0.835059 [25600/60000]\n",
      "loss: 0.847483 [32000/60000]\n",
      "loss: 0.923749 [38400/60000]\n",
      "loss: 0.876577 [44800/60000]\n",
      "loss: 0.889714 [51200/60000]\n",
      "loss: 0.843767 [57600/60000]\n",
      "Test Error: \n",
      " Accuracy: 68.3%, Avg loss: 0.853421 \n",
      "\n",
      "Epoch 8\n",
      "--------------------\n",
      "loss: 0.884394 [    0/60000]\n",
      "loss: 0.932759 [ 6400/60000]\n",
      "loss: 0.719897 [12800/60000]\n",
      "loss: 0.904375 [19200/60000]\n",
      "loss: 0.795460 [25600/60000]\n",
      "loss: 0.796926 [32000/60000]\n",
      "loss: 0.883421 [38400/60000]\n",
      "loss: 0.842165 [44800/60000]\n",
      "loss: 0.847963 [51200/60000]\n",
      "loss: 0.806672 [57600/60000]\n",
      "Test Error: \n",
      " Accuracy: 69.5%, Avg loss: 0.815085 \n",
      "\n",
      "Epoch 9\n",
      "--------------------\n",
      "loss: 0.831243 [    0/60000]\n",
      "loss: 0.892447 [ 6400/60000]\n",
      "loss: 0.673995 [12800/60000]\n",
      "loss: 0.867569 [19200/60000]\n",
      "loss: 0.765724 [25600/60000]\n",
      "loss: 0.758307 [32000/60000]\n",
      "loss: 0.851030 [38400/60000]\n",
      "loss: 0.816829 [44800/60000]\n",
      "loss: 0.815379 [51200/60000]\n",
      "loss: 0.776805 [57600/60000]\n",
      "Test Error: \n",
      " Accuracy: 70.8%, Avg loss: 0.784688 \n",
      "\n",
      "Epoch 10\n",
      "--------------------\n",
      "loss: 0.787441 [    0/60000]\n",
      "loss: 0.858687 [ 6400/60000]\n",
      "loss: 0.637022 [12800/60000]\n",
      "loss: 0.838083 [19200/60000]\n",
      "loss: 0.741993 [25600/60000]\n",
      "loss: 0.727923 [32000/60000]\n",
      "loss: 0.823229 [38400/60000]\n",
      "loss: 0.796802 [44800/60000]\n",
      "loss: 0.788959 [51200/60000]\n",
      "loss: 0.751744 [57600/60000]\n",
      "Test Error: \n",
      " Accuracy: 72.0%, Avg loss: 0.759386 \n",
      "\n",
      "Done!\n"
     ]
    }
   ],
   "source": [
    "loss_fn = nn.CrossEntropyLoss()\n",
    "optimizer = torch.optim.SGD(model.parameters(), lr=learning_rate)\n",
    "\n",
    "epochs = 10\n",
    "for t in range(epochs):\n",
    "    print(f\"Epoch {t+1}\\n--------------------\")\n",
    "    train_loop(train_dataloader, model, loss_fn, optimizer)\n",
    "    test_loop(test_dataloader, model, loss_fn)\n",
    "print(\"Done!\")"
   ]
  },
  {
   "attachments": {},
   "cell_type": "markdown",
   "metadata": {},
   "source": [
    "# Further Reading\n",
    "---"
   ]
  },
  {
   "attachments": {},
   "cell_type": "markdown",
   "metadata": {},
   "source": [
    "* [Hyperparameter Tuning Tutorial](https://pytorch.org/tutorials/beginner/hyperparameter_tuning_tutorial.html)\n",
    "* [Loss Function](https://pytorch.org/docs/stable/nn.html#loss-functions)\n",
    "* [torch.optim](https://pytorch.org/docs/stable/optim.html)\n",
    "* [Warmstart Training a Model](https://pytorch.org/tutorials/recipes/recipes/warmstarting_model_using_parameters_from_a_different_model.html)\n",
    "* [Backpropagation](https://www.youtube.com/watch?v=tIeHLnjs5U8)"
   ]
  }
 ],
 "metadata": {
  "kernelspec": {
   "display_name": "py-38",
   "language": "python",
   "name": "python3"
  },
  "language_info": {
   "codemirror_mode": {
    "name": "ipython",
    "version": 3
   },
   "file_extension": ".py",
   "mimetype": "text/x-python",
   "name": "python",
   "nbconvert_exporter": "python",
   "pygments_lexer": "ipython3",
   "version": "3.8.0 (default, Nov  6 2019, 21:49:08) \n[GCC 7.3.0]"
  },
  "orig_nbformat": 4,
  "vscode": {
   "interpreter": {
    "hash": "b1575894b3c56cb0000c31f06c89affaaca1d84533f8b8421570eed65a182f1a"
   }
  }
 },
 "nbformat": 4,
 "nbformat_minor": 2
}
